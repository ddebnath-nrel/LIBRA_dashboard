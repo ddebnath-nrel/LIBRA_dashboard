{
 "cells": [
  {
   "cell_type": "code",
   "execution_count": null,
   "id": "c70d429d-540f-482a-b1a8-8f5b34c60422",
   "metadata": {},
   "outputs": [],
   "source": [
    "import pandas as pd\n",
    "import numpy as np\n",
    "import os\n",
    "import matplotlib.pyplot as plt   \n",
    "import re \n",
    "import io\n",
    "import ipywidgets as widgets\n",
    "\n",
    "from typing import Optional\n",
    "from datetime import date\n",
    "from IPython.display import display, update_display\n",
    " \n",
    "from src.plot_parameters import ArrayValue, ArrayType\n",
    "from src.utils_v3 import LinePlotParameters, StackPlotParameters, StyleParameters\n",
    "from src.utils_v3 import make_lineplot, make_comparative_lineplots"
   ]
  },
  {
   "cell_type": "code",
   "execution_count": null,
   "id": "1455591e",
   "metadata": {},
   "outputs": [],
   "source": [
    "%matplotlib inline\n",
    "%config InlineBackend.figure_format='retina'"
   ]
  },
  {
   "cell_type": "code",
   "execution_count": null,
   "id": "df7af24e",
   "metadata": {},
   "outputs": [],
   "source": [
    "def fix_col_names(df:pd.DataFrame) -> None:\n",
    "    col_names_to_change = df.columns[df.columns.str.startswith(\"=\")].tolist()\n",
    "    changed_col_names = [col.replace(\"=\", \"\") for col in col_names_to_change]\n",
    "    changed_col_names = [col.replace(\"\\\"\", \"\") for col in changed_col_names]\n",
    "    df.rename(columns=dict(zip(col_names_to_change, changed_col_names)), inplace=True)"
   ]
  },
  {
   "cell_type": "code",
   "execution_count": null,
   "id": "1b85e25f",
   "metadata": {},
   "outputs": [],
   "source": [
    "def generate_names_from_dataframe(\n",
    "                        input_df: pd.DataFrame, \n",
    "                        variable_dict: dict, \n",
    "                        array_val_dict: dict):\n",
    "    \n",
    "    rootname_pattern = re.compile(r\"([\\w\\s$%/-]+):\\s([\\w\\s$%/-]+)\\.([\\w\\s$%/-]+)\\[?\") \n",
    "    array_pattern = re.compile(r\"\\[(\\w+|\\w+(,\\s\\w+){0,3})\\]\")\n",
    "    stella_run_names = set()\n",
    "    for col in input_df.columns:\n",
    "        for match in rootname_pattern.findall(col):\n",
    "            stella_run_names.add(match[0])\n",
    "            variable_name = f\"{match[1]}.{match[2]}\"\n",
    "            \n",
    "            if match[1] not in variable_dict.keys():\n",
    "                variable_dict[match[1]] = set([match[2]])\n",
    "            else:\n",
    "                variable_dict[match[1]].add(match[2])\n",
    "        for match in array_pattern.findall(col):\n",
    "            if variable_name not in array_val_dict.keys():\n",
    "                array_val_dict[variable_name] = [ArrayValue(array_val.strip()) \\\n",
    "                        for array_val in match[0].split(\",\") if array_val != \"\"]\n",
    "    return list(stella_run_names)"
   ]
  },
  {
   "cell_type": "markdown",
   "id": "6387520b",
   "metadata": {},
   "source": [
    "# Widgets"
   ]
  },
  {
   "cell_type": "code",
   "execution_count": null,
   "id": "a7367e4d",
   "metadata": {
    "scrolled": true
   },
   "outputs": [],
   "source": [
    "Header_widget = widgets.HTML(\n",
    "    value=\"<h1> <center> LIBRA Dashboard </center> </h1> \\n <center> (based on LIBRA v2.2) </center>\",\n",
    "    placeholder='Some HTML'\n",
    ")"
   ]
  },
  {
   "cell_type": "code",
   "execution_count": null,
   "id": "52050556",
   "metadata": {},
   "outputs": [],
   "source": [
    "LIBRA_outputs_upload_widget = widgets.FileUpload(\n",
    "    accept='.csv',\n",
    "    multiple=False\n",
    ")"
   ]
  },
  {
   "cell_type": "code",
   "execution_count": null,
   "id": "2d7931ae",
   "metadata": {},
   "outputs": [],
   "source": [
    "stella_runname_dropdown = widgets.SelectMultiple(\n",
    "    options=[None],\n",
    "    value=[None],\n",
    "    description='LIBRA run names:',\n",
    "    style={'description_width': 'initial'},\n",
    "    disabled=False\n",
    ") \n",
    "stella_runname_dropdown_2 = widgets.SelectMultiple(\n",
    "    options=[None],\n",
    "    value=[None],\n",
    "    description='LIBRA run names:',\n",
    "    style={'description_width': 'initial'},\n",
    "    disabled=False\n",
    ")"
   ]
  },
  {
   "cell_type": "code",
   "execution_count": null,
   "id": "7d87589c",
   "metadata": {},
   "outputs": [],
   "source": [
    "module_dropdown = widgets.Dropdown(\n",
    "    options=[],\n",
    "    value=None,\n",
    "    description='Name of LIBRA module:',\n",
    "    style={'description_width': 'initial'},\n",
    "    disabled=False,\n",
    ")\n",
    "module_dropdown_2 = widgets.Dropdown(\n",
    "    options=[],\n",
    "    value=None,\n",
    "    description='Name of LIBRA module:',\n",
    "    style={'description_width': 'initial'},\n",
    "    disabled=False,\n",
    ")"
   ]
  },
  {
   "cell_type": "code",
   "execution_count": null,
   "id": "ab56f0aa",
   "metadata": {},
   "outputs": [],
   "source": [
    "variablename_dropdown = widgets.Dropdown(\n",
    "    options=[],\n",
    "    value=None,\n",
    "    description='Name of LIBRA variable:',\n",
    "    style={'description_width': 'initial'},\n",
    "    disabled=False,\n",
    ")\n",
    "variablename_dropdown_2 = widgets.Dropdown(\n",
    "    options=[],\n",
    "    value=None,\n",
    "    description='Name of LIBRA variable:',\n",
    "    style={'description_width': 'initial'},\n",
    "    disabled=False,\n",
    ")"
   ]
  },
  {
   "cell_type": "code",
   "execution_count": null,
   "id": "e1a5163c",
   "metadata": {},
   "outputs": [],
   "source": [
    "arrayval_dropdown_1 = widgets.Dropdown(\n",
    "    options=[],\n",
    "    value=None,\n",
    "    description='Array values 1:',\n",
    "    style={'description_width': 'initial'},\n",
    "    disabled=False,\n",
    ")\n",
    "arrayval_dropdown_2 = widgets.Dropdown(\n",
    "    options=[],\n",
    "    value=None,\n",
    "    description='Array values 2:',\n",
    "    style={'description_width': 'initial'},\n",
    "    disabled=False,\n",
    ")\n",
    "arrayval_dropdown_3 = widgets.Dropdown(\n",
    "    options=[],\n",
    "    value=None,\n",
    "    description='Array values 3:',\n",
    "    style={'description_width': 'initial'},\n",
    "    disabled=False,\n",
    ")\n",
    "arrayval_dropdown_2_1 = widgets.Dropdown(\n",
    "    options=[],\n",
    "    value=None,\n",
    "    description='Array values 1:',\n",
    "    style={'description_width': 'initial'},\n",
    "    disabled=False,\n",
    ")\n",
    "arrayval_dropdown_2_2 = widgets.Dropdown(\n",
    "    options=[],\n",
    "    value=None,\n",
    "    description='Array values 2:',\n",
    "    style={'description_width': 'initial'},\n",
    "    disabled=False,\n",
    ")\n",
    "arrayval_dropdown_2_3 = widgets.Dropdown(\n",
    "    options=[],\n",
    "    value=None,\n",
    "    description='Array values 3:',\n",
    "    style={'description_width': 'initial'},\n",
    "    disabled=False,\n",
    ")"
   ]
  },
  {
   "cell_type": "code",
   "execution_count": null,
   "id": "ebf34428",
   "metadata": {},
   "outputs": [],
   "source": [
    "title_box = widgets.Text(value=\"Plot title\",\n",
    "                        placeholder=\"Enter plot title.\",\n",
    "                        description=\"Lineplot title:\",\n",
    "                        style={'description_width': 'initial'},\n",
    "                        disabled=False)\n",
    "title_box_2 = widgets.Text(value=\"Plot title\",\n",
    "                        placeholder=\"Enter plot title.\",\n",
    "                        description=\"Lineplot title:\",\n",
    "                        style={'description_width': 'initial'},\n",
    "                        disabled=False)"
   ]
  },
  {
   "cell_type": "code",
   "execution_count": null,
   "id": "cf0d96a3",
   "metadata": {},
   "outputs": [],
   "source": [
    "ylabel_box = widgets.Text(value=\"Y-axis label\",\n",
    "                        placeholder=\"Enter y-axis label.\",\n",
    "                        description=\"Y-axis label:\",\n",
    "                        style={'description_width': 'initial'},\n",
    "                        disabled=False)\n",
    "ylabel_box_2 = widgets.Text(value=\"Y-axis label\",\n",
    "                        placeholder=\"Enter y-axis label.\",\n",
    "                        description=\"Y-axis label:\",\n",
    "                        style={'description_width': 'initial'},\n",
    "                        disabled=False)"
   ]
  },
  {
   "cell_type": "code",
   "execution_count": null,
   "id": "8f1bb472",
   "metadata": {},
   "outputs": [],
   "source": [
    "max_yval_select = widgets.BoundedFloatText(value=0.0,\n",
    "                                        min=0.0,\n",
    "                                        max=10000000.0,\n",
    "                                        step=0.1,\n",
    "                                        description='Maximum value for y-axis:',\n",
    "                                        style={'description_width': 'initial'},\n",
    "                                        disabled=False)\n",
    "max_yval_select_2 = widgets.BoundedFloatText(value=0.0,\n",
    "                                        min=0.0,\n",
    "                                        max=10000000.0,\n",
    "                                        step=0.1,\n",
    "                                        description='Maximum value for y-axis:',\n",
    "                                        style={'description_width': 'initial'},\n",
    "                                        disabled=False)"
   ]
  },
  {
   "cell_type": "code",
   "execution_count": null,
   "id": "e530ccfd",
   "metadata": {},
   "outputs": [],
   "source": [
    "isdecimal_checkbox = widgets.Checkbox(\n",
    "    value=False,\n",
    "    description='Decimal point for y-axis values',\n",
    "    disabled=False,\n",
    "    indent=False\n",
    ")\n",
    "isdecimal_checkbox_2 = widgets.Checkbox(\n",
    "    value=False,\n",
    "    description='Decimal point for y-axis values',\n",
    "    disabled=False,\n",
    "    indent=False\n",
    ")"
   ]
  },
  {
   "cell_type": "code",
   "execution_count": null,
   "id": "91e4a84b",
   "metadata": {},
   "outputs": [],
   "source": [
    "isexogenousinput_checkbox = widgets.Checkbox(\n",
    "    value=False,\n",
    "    description='The variable is an exogenous input',\n",
    "    disabled=False,\n",
    "    indent=False\n",
    ")\n",
    "isexogenousinput_checkbox_2 = widgets.Checkbox(\n",
    "    value=False,\n",
    "    description='The variable is an exogenous input',\n",
    "    disabled=False,\n",
    "    indent=False\n",
    ")"
   ]
  },
  {
   "cell_type": "code",
   "execution_count": null,
   "id": "02bf2b6b",
   "metadata": {},
   "outputs": [],
   "source": [
    "errormessage_box = widgets.HTML(\n",
    "    value=\"\",\n",
    "    placeholder='No errors.',\n",
    "    description='',\n",
    "    layout={'width':'100%', 'border': '2px solid black'}\n",
    ")\n",
    "errormessage_box_2 = widgets.HTML(\n",
    "    value=\"\",\n",
    "    placeholder='No errors.',\n",
    "    description='',\n",
    "    layout={'width':'100%', 'border': '2px solid black'}    \n",
    ")"
   ]
  },
  {
   "cell_type": "code",
   "execution_count": null,
   "id": "3f3dc6b9",
   "metadata": {},
   "outputs": [],
   "source": [
    "tableview_out = widgets.Output(layout={'width':'50%', 'border': '2px solid black'})\n",
    "tableview_out_2 = widgets.Output(layout={'width':'50%', 'border': '2px solid black'})"
   ]
  },
  {
   "cell_type": "code",
   "execution_count": null,
   "id": "050daffc",
   "metadata": {},
   "outputs": [],
   "source": [
    "plot_display_out = widgets.Output(layout={'width':'50%', 'border': '2px solid black'})\n",
    "plot_display_out_2 = widgets.Output(layout={'width':'50%', 'border': '2px solid black'})"
   ]
  },
  {
   "cell_type": "markdown",
   "id": "6a51b279",
   "metadata": {},
   "source": [
    "# Function to update plot"
   ]
  },
  {
   "cell_type": "code",
   "execution_count": null,
   "id": "cd56f54f",
   "metadata": {},
   "outputs": [],
   "source": [
    "def update_plot(\n",
    "    input_file: tuple,\n",
    "    run_names: list[str], \n",
    "    module: str, \n",
    "    variable: str, \n",
    "    array_val_1: str,\n",
    "    array_val_2: str,\n",
    "    array_val_3: str,\n",
    "    title: str,\n",
    "    y_label: Optional[str],\n",
    "    max_yval: Optional[float],\n",
    "    decimal: Optional[bool],\n",
    "    is_exogenous_input: Optional[bool]\n",
    ") -> None:\n",
    "      \n",
    "    try:\n",
    "        uploaded_file = input_file[0]\n",
    "        input_df = pd.read_csv(io.BytesIO(uploaded_file.content), index_col=0).astype(np.float32)\n",
    "        fix_col_names(input_df)\n",
    "    except IndexError as e:\n",
    "        errormessage_box.value = \"Please upload a LIBRA output csv file.\"\n",
    "        return    \n",
    "    try:    \n",
    "        style_params = StyleParameters(\n",
    "                                stella_run_names=run_names,\n",
    "                                compare=False\n",
    "                            )\n",
    "    except AssertionError as e:\n",
    "        errormessage_box.value = str(e)\n",
    "        return       \n",
    "    try:\n",
    "        plot_params = LinePlotParameters(\n",
    "                    module=module,\n",
    "                    variable=variable,\n",
    "                    array_vals=[array_val for array_val in \\\n",
    "                                [array_val_1, array_val_2, array_val_3] if array_val],\n",
    "                    title=title,\n",
    "                    y_label=y_label,\n",
    "                    max_yval=max_yval if max_yval > 0 else None,\n",
    "                    decimal=decimal,\n",
    "                    is_exogenous_input=is_exogenous_input\n",
    "            )\n",
    "    except [ValueError, AssertionError] as e:\n",
    "        errormessage_box.value = str(e)\n",
    "        return\n",
    "    tableview_out.clear_output()\n",
    "    cols = [f\"{run_name}: {plot_params._full_variable_name}\" for run_name in run_names]\n",
    "    with tableview_out:\n",
    "        try:\n",
    "            display(input_df.loc[2020:2050, cols].transpose())\n",
    "        except KeyError as k:\n",
    "            display(\" \")\n",
    "            errormessage_box.value = str(k)\n",
    "            return\n",
    "    plot_display_out.clear_output()\n",
    "    with plot_display_out:\n",
    "        try:\n",
    "            display(make_lineplot(input_df, plot_params, style_params))\n",
    "            display(make_comparative_lineplots(input_df, plot_params, style_params))\n",
    "            errormessage_box.value = \"\"\n",
    "        except KeyError as k:\n",
    "            errormessage_box.value = f\"{str(k)} is not in the uploaded csv file.\"\n",
    "            update_display(plt.figure())\n",
    "            return\n",
    "        "
   ]
  },
  {
   "cell_type": "code",
   "execution_count": null,
   "id": "ac5cb48c",
   "metadata": {},
   "outputs": [],
   "source": [
    "def update_plot_2(\n",
    "    input_file: tuple,\n",
    "    run_names: list[str], \n",
    "    module: str, \n",
    "    variable: str, \n",
    "    array_val_1: str,\n",
    "    array_val_2: str,\n",
    "    array_val_3: str,\n",
    "    title: str,\n",
    "    y_label: Optional[str],\n",
    "    max_yval: Optional[float],\n",
    "    decimal: Optional[bool],\n",
    "    is_exogenous_input: Optional[bool]\n",
    ") -> None:\n",
    "      \n",
    "    try:\n",
    "        uploaded_file = input_file[0]\n",
    "        input_df = pd.read_csv(io.BytesIO(uploaded_file.content), index_col=0).astype(np.float32)\n",
    "        fix_col_names(input_df)\n",
    "    except IndexError as e:\n",
    "        errormessage_box_2.value = \"Please upload a LIBRA output csv file.\"\n",
    "        return    \n",
    "    try:    \n",
    "        style_params = StyleParameters(\n",
    "                                stella_run_names=run_names,\n",
    "                                compare=False\n",
    "                            )\n",
    "    except AssertionError as e:\n",
    "        errormessage_box_2.value = str(e)\n",
    "        return       \n",
    "    try:\n",
    "        plot_params = LinePlotParameters(\n",
    "                    module=module,\n",
    "                    variable=variable,\n",
    "                    array_vals=[array_val for array_val in \\\n",
    "                                [array_val_1, array_val_2, array_val_3] if array_val],\n",
    "                    title=title,\n",
    "                    y_label=y_label,\n",
    "                    max_yval=max_yval if max_yval > 0 else None,\n",
    "                    decimal=decimal,\n",
    "                    is_exogenous_input=is_exogenous_input\n",
    "            )\n",
    "    except [ValueError, AssertionError] as e:\n",
    "        errormessage_box_2.value = str(e)\n",
    "        return\n",
    "    \n",
    "    tableview_out_2.clear_output()\n",
    "    cols = [f\"{run_name}: {plot_params._full_variable_name}\" for run_name in run_names]\n",
    "    with tableview_out_2:\n",
    "        try:\n",
    "            display(input_df.loc[2020:2050, cols].transpose())\n",
    "        except KeyError as k:\n",
    "            display(\" \")\n",
    "            errormessage_box_2.value = str(k)\n",
    "            return\n",
    "    plot_display_out_2.clear_output()\n",
    "    with plot_display_out_2:\n",
    "        try:\n",
    "            display(make_lineplot(input_df, plot_params, style_params))\n",
    "            display(make_comparative_lineplots(input_df, plot_params, style_params))\n",
    "            errormessage_box_2.value = \"\"\n",
    "        except KeyError as k:\n",
    "            errormessage_box_2.value = f\"{str(k)} is not in the uploaded csv file.\"\n",
    "            update_display(plt.figure())\n",
    "            return\n",
    "        "
   ]
  },
  {
   "cell_type": "markdown",
   "id": "91cf0139",
   "metadata": {},
   "source": [
    "# Functions to update widgets"
   ]
  },
  {
   "cell_type": "code",
   "execution_count": null,
   "id": "51999a93",
   "metadata": {},
   "outputs": [],
   "source": [
    "def update_multiselect(multiselect: widgets.Widget, options_list: list[str]) -> None:\n",
    "    multiselect.options = sorted(options_list)\n",
    "    multiselect.value = [multiselect.options[0]]\n",
    "\n",
    "def update_dropdown(dropdown: widgets.Widget, options_list: list[str]) -> None:\n",
    "    dropdown.options = sorted(options_list)\n",
    "    dropdown.value = dropdown.options[0]"
   ]
  },
  {
   "cell_type": "code",
   "execution_count": null,
   "id": "1ff64b6a",
   "metadata": {},
   "outputs": [],
   "source": [
    "array_val_dict = {}\n",
    "variable_dict = {}\n",
    "def post_upload(*args):\n",
    "    uploaded_file = LIBRA_outputs_upload_widget.value[0]\n",
    "    input_df = pd.read_csv(io.BytesIO(uploaded_file.content), index_col=0).astype(np.float32)\n",
    "    fix_col_names(input_df)\n",
    "    \n",
    "    array_val_dict.clear()\n",
    "    variable_dict.clear()\n",
    "    stella_run_names = generate_names_from_dataframe(input_df, variable_dict, array_val_dict)\n",
    "    update_multiselect(stella_runname_dropdown, stella_run_names)\n",
    "    update_dropdown(module_dropdown, list(variable_dict.keys()))\n",
    "    \n",
    "    update_multiselect(stella_runname_dropdown_2, stella_run_names)\n",
    "    update_dropdown(module_dropdown_2, list(variable_dict.keys()))"
   ]
  },
  {
   "cell_type": "code",
   "execution_count": null,
   "id": "2f9cb86c",
   "metadata": {},
   "outputs": [],
   "source": [
    "def update_variablename_dropdown(*args) -> None:\n",
    "    variable_list = list(variable_dict[module_dropdown.value])\n",
    "    update_dropdown(variablename_dropdown, variable_list)\n",
    "def update_variablename_dropdown_2(*args) -> None:\n",
    "    variable_list = list(variable_dict[module_dropdown_2.value])\n",
    "    update_dropdown(variablename_dropdown_2, variable_list)"
   ]
  },
  {
   "cell_type": "code",
   "execution_count": null,
   "id": "b97986b4",
   "metadata": {},
   "outputs": [],
   "source": [
    "def update_title_box(*args) -> None:\n",
    "    title_box.value = f\"{module_dropdown.value}.{variablename_dropdown.value}\"\n",
    "    if arrayval_dropdown_1.value:\n",
    "        title_box.value = title_box.value + \"[\" + \", \".join(arrayval_dropdown.value for arrayval_dropdown \\\n",
    "                                in arrayval_dropdowns if arrayval_dropdown.value) + \"]\"\n",
    "def update_title_box_2(*args) -> None:\n",
    "    title_box_2.value = f\"{module_dropdown_2.value}.{variablename_dropdown_2.value}\"\n",
    "    if arrayval_dropdown_2_1.value:\n",
    "        title_box_2.value = title_box_2.value + \"[\" + \", \".join(arrayval_dropdown.value for arrayval_dropdown \\\n",
    "                                in arrayval_dropdowns_2 if arrayval_dropdown.value) + \"]\""
   ]
  },
  {
   "cell_type": "code",
   "execution_count": null,
   "id": "5a7359c1",
   "metadata": {},
   "outputs": [],
   "source": [
    "def update_ylabel_box(*args) -> None:\n",
    "    ylabel_box.value = f\"{variablename_dropdown.value}\"\n",
    "def update_ylabel_box_2(*args) -> None:\n",
    "    ylabel_box_2.value = f\"{variablename_dropdown_2.value}\""
   ]
  },
  {
   "cell_type": "code",
   "execution_count": null,
   "id": "803d939e",
   "metadata": {},
   "outputs": [],
   "source": [
    "def update_arrayval_dropdowns(*args) -> None:\n",
    "    try:\n",
    "        arrayvals = array_val_dict[f\"{module_dropdown.value}.{variablename_dropdown.value}\"]\n",
    "    except KeyError as e:\n",
    "        errormessage_box.value = f\"{str(e)} is an invalid combination of a module and a variable name.\"\n",
    "        return\n",
    "    for i, arrayval in enumerate(arrayvals):\n",
    "        update_dropdown(arrayval_dropdowns[i], ArrayType.enumerate_array_type(arrayval.data_type))\n",
    "    for arrayval_dropdown in arrayval_dropdowns[len(arrayvals):]:\n",
    "        arrayval_dropdown.options = []\n",
    "        arrayval_dropdown.value = None\n",
    "        \n",
    "def update_arrayval_dropdowns_2(*args) -> None:\n",
    "    try:\n",
    "        arrayvals = array_val_dict[f\"{module_dropdown_2.value}.{variablename_dropdown_2.value}\"]\n",
    "    except KeyError as e:\n",
    "        errormessage_box_2.value = f\"{str(e)} is an invalid combination of a module and a variable name.\"\n",
    "        return\n",
    "    for i, arrayval in enumerate(arrayvals):\n",
    "        update_dropdown(arrayval_dropdowns_2[i], ArrayType.enumerate_array_type(arrayval.data_type))\n",
    "    for arrayval_dropdown in arrayval_dropdowns_2[len(arrayvals):]:\n",
    "        arrayval_dropdown.options = []\n",
    "        arrayval_dropdown.value = None\n",
    "        "
   ]
  },
  {
   "cell_type": "markdown",
   "id": "9e019a72",
   "metadata": {},
   "source": [
    "# UI elements"
   ]
  },
  {
   "cell_type": "code",
   "execution_count": null,
   "id": "8ca27a2a",
   "metadata": {},
   "outputs": [],
   "source": [
    "out = widgets.interactive_output(\n",
    "    update_plot,    \n",
    "    {\n",
    "        'input_file': LIBRA_outputs_upload_widget,\n",
    "        'run_names': stella_runname_dropdown,\n",
    "        'module': module_dropdown,\n",
    "        'variable': variablename_dropdown, \n",
    "        'array_val_1': arrayval_dropdown_1,\n",
    "        'array_val_2': arrayval_dropdown_2,\n",
    "        'array_val_3': arrayval_dropdown_3,\n",
    "        'title': title_box,\n",
    "        'y_label': ylabel_box,\n",
    "        'max_yval': max_yval_select,\n",
    "        'decimal': isdecimal_checkbox,\n",
    "        'is_exogenous_input': isexogenousinput_checkbox\n",
    "    }\n",
    ")\n",
    "\n",
    "out_2 = widgets.interactive_output(\n",
    "    update_plot_2,    \n",
    "    {\n",
    "        'input_file': LIBRA_outputs_upload_widget,\n",
    "        'run_names': stella_runname_dropdown,\n",
    "        'module': module_dropdown_2,\n",
    "        'variable': variablename_dropdown_2, \n",
    "        'array_val_1': arrayval_dropdown_2_1,\n",
    "        'array_val_2': arrayval_dropdown_2_2,\n",
    "        'array_val_3': arrayval_dropdown_2_3,\n",
    "        'title': title_box_2,\n",
    "        'y_label': ylabel_box_2,\n",
    "        'max_yval': max_yval_select_2,\n",
    "        'decimal': isdecimal_checkbox_2,\n",
    "        'is_exogenous_input': isexogenousinput_checkbox_2\n",
    "    }\n",
    ")\n",
    "arrayval_dropdowns = [arrayval_dropdown_1, arrayval_dropdown_2, arrayval_dropdown_3]\n",
    "arrayval_dropdowns_2 = [arrayval_dropdown_2_1, arrayval_dropdown_2_2, arrayval_dropdown_2_3]"
   ]
  },
  {
   "cell_type": "code",
   "execution_count": null,
   "id": "d875fce0",
   "metadata": {},
   "outputs": [],
   "source": [
    "first_plot_widgets = widgets.Box([\n",
    "    errormessage_box,\n",
    "    module_dropdown, variablename_dropdown,\n",
    "    arrayval_dropdown_1, arrayval_dropdown_2, arrayval_dropdown_3,\n",
    "    title_box, ylabel_box, max_yval_select,\n",
    "    isdecimal_checkbox, isexogenousinput_checkbox],\n",
    "    layout=widgets.Layout(\n",
    "        display=\"flex\",\n",
    "        flex_flow='column',\n",
    "        border='solid 2px',\n",
    "        align_items='stretch',\n",
    "        width='50%'\n",
    "    )\n",
    ")\n",
    "second_plot_widgets = widgets.Box([\n",
    "    errormessage_box_2,\n",
    "    module_dropdown_2, variablename_dropdown_2,\n",
    "    arrayval_dropdown_2_1, arrayval_dropdown_2_2, arrayval_dropdown_2_3,\n",
    "    title_box_2, ylabel_box_2, max_yval_select_2,\n",
    "    isdecimal_checkbox_2, isexogenousinput_checkbox_2],\n",
    "    layout=widgets.Layout(\n",
    "        display=\"flex\",\n",
    "        flex_flow='column',\n",
    "        border='solid 2px',\n",
    "        align_items='stretch',\n",
    "        width='50%'\n",
    "    )\n",
    ")\n",
    "datatables = widgets.HBox([tableview_out, tableview_out_2])\n",
    "plot_out = widgets.HBox([plot_display_out, plot_display_out_2])"
   ]
  },
  {
   "cell_type": "markdown",
   "id": "ce952123",
   "metadata": {},
   "source": [
    "# Callbacks"
   ]
  },
  {
   "cell_type": "code",
   "execution_count": null,
   "id": "350fd552",
   "metadata": {},
   "outputs": [],
   "source": [
    "LIBRA_outputs_upload_widget.observe(post_upload, names=\"value\")\n",
    "module_dropdown.observe(update_arrayval_dropdowns, names=\"value\")\n",
    "variablename_dropdown.observe(update_arrayval_dropdowns, names=\"value\")\n",
    "module_dropdown.observe(update_variablename_dropdown, names=\"value\")\n",
    "\n",
    "module_dropdown_2.observe(update_arrayval_dropdowns_2, names=\"value\")\n",
    "variablename_dropdown_2.observe(update_arrayval_dropdowns_2, names=\"value\")\n",
    "module_dropdown_2.observe(update_variablename_dropdown_2, names=\"value\")"
   ]
  },
  {
   "cell_type": "code",
   "execution_count": null,
   "id": "bdfdbc66",
   "metadata": {},
   "outputs": [],
   "source": [
    "module_dropdown.observe(update_title_box, names=\"value\")\n",
    "variablename_dropdown.observe(update_title_box, names=\"value\")\n",
    "module_dropdown.observe(update_ylabel_box, names=\"value\")\n",
    "variablename_dropdown.observe(update_ylabel_box, names=\"value\")\n",
    "arrayval_dropdown_1.observe(update_title_box, names=\"value\")\n",
    "arrayval_dropdown_2.observe(update_title_box, names=\"value\")\n",
    "arrayval_dropdown_3.observe(update_title_box, names=\"value\")\n",
    "\n",
    "module_dropdown_2.observe(update_title_box_2, names=\"value\")\n",
    "variablename_dropdown_2.observe(update_title_box_2, names=\"value\")\n",
    "module_dropdown_2.observe(update_ylabel_box_2, names=\"value\")\n",
    "variablename_dropdown_2.observe(update_ylabel_box_2, names=\"value\")\n",
    "arrayval_dropdown_2_1.observe(update_title_box_2, names=\"value\")\n",
    "arrayval_dropdown_2_2.observe(update_title_box_2, names=\"value\")\n",
    "arrayval_dropdown_2_3.observe(update_title_box_2, names=\"value\")"
   ]
  },
  {
   "cell_type": "markdown",
   "id": "40072173",
   "metadata": {},
   "source": [
    "# Main dashboard"
   ]
  },
  {
   "cell_type": "code",
   "execution_count": null,
   "id": "da219253",
   "metadata": {
    "scrolled": false
   },
   "outputs": [],
   "source": [
    "display(Header_widget,\n",
    "        LIBRA_outputs_upload_widget,\n",
    "        stella_runname_dropdown, \n",
    "        widgets.HBox([first_plot_widgets, second_plot_widgets]), \n",
    "        datatables,\n",
    "        plot_out)"
   ]
  },
  {
   "cell_type": "code",
   "execution_count": null,
   "id": "882c5ece",
   "metadata": {},
   "outputs": [],
   "source": [
    "%load_ext watermark"
   ]
  },
  {
   "cell_type": "code",
   "execution_count": null,
   "id": "61e25516",
   "metadata": {
    "scrolled": true
   },
   "outputs": [],
   "source": [
    "# matplotlib, ipywidgets, numpy, pandas, IPython\n",
    "%watermark -v -m -p ipywidgets,numpy,pandas,matplotlib\n",
    "\n",
    "%watermark -u -n -t -z"
   ]
  },
  {
   "cell_type": "code",
   "execution_count": null,
   "id": "46448460",
   "metadata": {},
   "outputs": [],
   "source": []
  }
 ],
 "metadata": {
  "kernelspec": {
   "display_name": "Python 3 (ipykernel)",
   "language": "python",
   "name": "python3"
  },
  "language_info": {
   "codemirror_mode": {
    "name": "ipython",
    "version": 3
   },
   "file_extension": ".py",
   "mimetype": "text/x-python",
   "name": "python",
   "nbconvert_exporter": "python",
   "pygments_lexer": "ipython3",
   "version": "3.10.4"
  },
  "vscode": {
   "interpreter": {
    "hash": "0d4b376d5c1e8918844741f06c458cd59ab07bae13f227fd1f3b943e22de9040"
   }
  }
 },
 "nbformat": 4,
 "nbformat_minor": 5
}
