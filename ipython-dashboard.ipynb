{
 "cells": [
  {
   "cell_type": "code",
   "execution_count": 1,
   "id": "c70d429d-540f-482a-b1a8-8f5b34c60422",
   "metadata": {},
   "outputs": [],
   "source": [
    "import pandas as pd\n",
    "import numpy as np\n",
    "import os\n",
    "import matplotlib.pyplot as plt   \n",
    "import re \n",
    "import io\n",
    "import ipywidgets as widgets\n",
    "\n",
    "from typing import Optional\n",
    "from datetime import date\n",
    "from IPython.display import display\n",
    " \n",
    "from src.plot_parameters import ArrayValue, ArrayType\n",
    "from src.utils_v3 import LinePlotParameters, StackPlotParameters, StyleParameters\n",
    "from src.utils_v3 import make_lineplot, make_comparative_lineplots"
   ]
  },
  {
   "cell_type": "code",
   "execution_count": 2,
   "id": "1455591e",
   "metadata": {},
   "outputs": [],
   "source": [
    "%matplotlib inline\n",
    "%config InlineBackend.figure_format='retina'"
   ]
  },
  {
   "cell_type": "code",
   "execution_count": 3,
   "id": "df7af24e",
   "metadata": {},
   "outputs": [],
   "source": [
    "def fix_col_names(df:pd.DataFrame) -> None:\n",
    "    col_names_to_change = df.columns[df.columns.str.startswith(\"=\")].tolist()\n",
    "    changed_col_names = [col.replace(\"=\", \"\") for col in col_names_to_change]\n",
    "    changed_col_names = [col.replace(\"\\\"\", \"\") for col in changed_col_names]\n",
    "    df.rename(columns=dict(zip(col_names_to_change, changed_col_names)), inplace=True)"
   ]
  },
  {
   "cell_type": "code",
   "execution_count": 4,
   "id": "1b85e25f",
   "metadata": {},
   "outputs": [],
   "source": [
    "def generate_names_from_dataframe(\n",
    "                        input_df: pd.DataFrame, \n",
    "                        variable_dict: dict, \n",
    "                        array_val_dict: dict):\n",
    "    \n",
    "    rootname_pattern = re.compile(r\"([\\w\\s$%/-]+):\\s([\\w\\s$%/-]+)\\.([\\w\\s$%/-]+)\\[?\") \n",
    "    array_pattern = re.compile(r\"\\[(\\w+|\\w+(,\\s\\w+){0,3})\\]\")\n",
    "    stella_run_names = set()\n",
    "    for col in input_df.columns:\n",
    "        for match in rootname_pattern.findall(col):\n",
    "            stella_run_names.add(match[0])\n",
    "            variable_name = f\"{match[1]}.{match[2]}\"\n",
    "            \n",
    "            if match[1] not in variable_dict.keys():\n",
    "                variable_dict[match[1]] = set([match[2]])\n",
    "            else:\n",
    "                variable_dict[match[1]].add(match[2])\n",
    "        for match in array_pattern.findall(col):\n",
    "            if variable_name not in array_val_dict.keys():\n",
    "                array_val_dict[variable_name] = [ArrayValue(array_val.strip()) \\\n",
    "                        for array_val in match[0].split(\",\") if array_val != \"\"]\n",
    "    return list(stella_run_names)"
   ]
  },
  {
   "cell_type": "markdown",
   "id": "6387520b",
   "metadata": {},
   "source": [
    "# Widgets"
   ]
  },
  {
   "cell_type": "code",
   "execution_count": 5,
   "id": "52050556",
   "metadata": {},
   "outputs": [],
   "source": [
    "LIBRA_outputs_upload_widget = widgets.FileUpload(\n",
    "    accept='.csv',\n",
    "    multiple=False\n",
    ")"
   ]
  },
  {
   "cell_type": "code",
   "execution_count": 6,
   "id": "2d7931ae",
   "metadata": {},
   "outputs": [],
   "source": [
    "stella_runname_dropdown = widgets.SelectMultiple(\n",
    "    options=[None],\n",
    "    value=[None],\n",
    "    description='LIBRA run names:',\n",
    "    style={'description_width': 'initial'},\n",
    "    disabled=False\n",
    ") "
   ]
  },
  {
   "cell_type": "code",
   "execution_count": 7,
   "id": "7d87589c",
   "metadata": {},
   "outputs": [],
   "source": [
    "module_dropdown = widgets.Dropdown(\n",
    "    options=[],\n",
    "    value=None,\n",
    "    description='Name of LIBRA module:',\n",
    "    style={'description_width': 'initial'},\n",
    "    disabled=False,\n",
    ")"
   ]
  },
  {
   "cell_type": "code",
   "execution_count": 8,
   "id": "ab56f0aa",
   "metadata": {},
   "outputs": [],
   "source": [
    "variablename_dropdown = widgets.Dropdown(\n",
    "    options=[],\n",
    "    value=None,\n",
    "    description='Name of LIBRA variable:',\n",
    "    style={'description_width': 'initial'},\n",
    "    disabled=False,\n",
    ")"
   ]
  },
  {
   "cell_type": "code",
   "execution_count": 9,
   "id": "e1a5163c",
   "metadata": {},
   "outputs": [],
   "source": [
    "arrayval_dropdown_1 = widgets.Dropdown(\n",
    "    options=[],\n",
    "    value=None,\n",
    "    description='Array values 1:',\n",
    "    style={'description_width': 'initial'},\n",
    "    disabled=False,\n",
    ")\n",
    "arrayval_dropdown_2 = widgets.Dropdown(\n",
    "    options=[],\n",
    "    value=None,\n",
    "    description='Array values 2:',\n",
    "    style={'description_width': 'initial'},\n",
    "    disabled=False,\n",
    ")\n",
    "arrayval_dropdown_3 = widgets.Dropdown(\n",
    "    options=[],\n",
    "    value=None,\n",
    "    description='Array values 3:',\n",
    "    style={'description_width': 'initial'},\n",
    "    disabled=False,\n",
    ")"
   ]
  },
  {
   "cell_type": "code",
   "execution_count": 10,
   "id": "ebf34428",
   "metadata": {},
   "outputs": [],
   "source": [
    "title_box = widgets.Text(value=\"Plot title\",\n",
    "                        placeholder=\"Enter plot title.\",\n",
    "                        description=\"Lineplot title:\",\n",
    "                        style={'description_width': 'initial'},\n",
    "                        disabled=False)"
   ]
  },
  {
   "cell_type": "code",
   "execution_count": 11,
   "id": "cf0d96a3",
   "metadata": {},
   "outputs": [],
   "source": [
    "ylabel_box = widgets.Text(value=\"Y-axis label\",\n",
    "                        placeholder=\"Enter y-axis label.\",\n",
    "                        description=\"Y-axis label:\",\n",
    "                        style={'description_width': 'initial'},\n",
    "                        disabled=False)"
   ]
  },
  {
   "cell_type": "code",
   "execution_count": 12,
   "id": "8f1bb472",
   "metadata": {},
   "outputs": [],
   "source": [
    "max_yval_select = widgets.BoundedFloatText(value=0.0,\n",
    "                                        min=0.0,\n",
    "                                        max=10000000.0,\n",
    "                                        step=0.1,\n",
    "                                        description='Maximum value for y-axis:',\n",
    "                                        style={'description_width': 'initial'},\n",
    "                                        disabled=False)"
   ]
  },
  {
   "cell_type": "code",
   "execution_count": 13,
   "id": "e530ccfd",
   "metadata": {},
   "outputs": [],
   "source": [
    "isdecimal_checkbox = widgets.Checkbox(\n",
    "    value=False,\n",
    "    description='Decimal point for y-axis values',\n",
    "    disabled=False,\n",
    "    indent=False\n",
    ")"
   ]
  },
  {
   "cell_type": "code",
   "execution_count": 14,
   "id": "91e4a84b",
   "metadata": {},
   "outputs": [],
   "source": [
    "isexogenousinput_checkbox = widgets.Checkbox(\n",
    "    value=False,\n",
    "    description='Exogenous input',\n",
    "    disabled=False,\n",
    "    indent=False\n",
    ")"
   ]
  },
  {
   "cell_type": "code",
   "execution_count": 15,
   "id": "02bf2b6b",
   "metadata": {},
   "outputs": [],
   "source": [
    "errormessage_box = widgets.HTML(\n",
    "    value=\"\",\n",
    "    placeholder='No errors.',\n",
    "    description='',\n",
    ")"
   ]
  },
  {
   "cell_type": "markdown",
   "id": "6a51b279",
   "metadata": {},
   "source": [
    "# Function to update plot"
   ]
  },
  {
   "cell_type": "code",
   "execution_count": 16,
   "id": "cd56f54f",
   "metadata": {},
   "outputs": [],
   "source": [
    "def update_plot(\n",
    "    input_file: tuple,\n",
    "    run_names: list[str], \n",
    "    module: str, \n",
    "    variable: str, \n",
    "    array_val_1: str,\n",
    "    array_val_2: str,\n",
    "    array_val_3: str,\n",
    "    title: str,\n",
    "    y_label: Optional[str],\n",
    "    max_yval: Optional[float],\n",
    "    decimal: Optional[bool],\n",
    "    is_exogenous_input: Optional[bool]\n",
    ") -> None:\n",
    "      \n",
    "    try:\n",
    "        uploaded_file = input_file[0]\n",
    "        input_df = pd.read_csv(io.BytesIO(uploaded_file.content), index_col=0).astype(np.float32)\n",
    "        fix_col_names(input_df)\n",
    "    except IndexError as e:\n",
    "        errormessage_box.value = \"Please upload a LIBRA output csv file.\"\n",
    "        return    \n",
    "    try:    \n",
    "        style_params = StyleParameters(\n",
    "                                stella_run_names=run_names,\n",
    "                                compare=False\n",
    "                            )\n",
    "    except AssertionError as e:\n",
    "        errormessage_box.value = str(e)\n",
    "        return       \n",
    "    try:\n",
    "        plot_params = LinePlotParameters(\n",
    "                    module=module,\n",
    "                    variable=variable,\n",
    "                    array_vals=[array_val for array_val in \\\n",
    "                                [array_val_1, array_val_2, array_val_3] if array_val],\n",
    "                    title=title,\n",
    "                    y_label=y_label,\n",
    "                    max_yval=max_yval if max_yval > 0 else None,\n",
    "                    decimal=decimal,\n",
    "                    is_exogenous_input=is_exogenous_input\n",
    "            )\n",
    "    except AssertionError as e:\n",
    "        errormessage_box.value = str(e)\n",
    "        return\n",
    "    \n",
    "    try:\n",
    "        make_lineplot(input_df, plot_params, style_params)\n",
    "        make_comparative_lineplots(input_df, plot_params, style_params)\n",
    "        errormessage_box.value = \"\"\n",
    "    except KeyError as k:\n",
    "        errormessage_box.value = f\"{str(k)} is not in the uploaded csv file.\"\n",
    "        plt.close()\n",
    "        return\n",
    "        "
   ]
  },
  {
   "cell_type": "markdown",
   "id": "91cf0139",
   "metadata": {},
   "source": [
    "# Functions to update widgets"
   ]
  },
  {
   "cell_type": "code",
   "execution_count": 17,
   "id": "51999a93",
   "metadata": {},
   "outputs": [],
   "source": [
    "def update_multiselect(multiselect, options_list: list[str]) -> None:\n",
    "    multiselect.options = sorted(options_list)\n",
    "    multiselect.value = [multiselect.options[0]]\n",
    "\n",
    "def update_dropdown(dropdown, options_list: list[str]) -> None:\n",
    "    dropdown.options = sorted(options_list)\n",
    "    dropdown.value = dropdown.options[0]"
   ]
  },
  {
   "cell_type": "code",
   "execution_count": 18,
   "id": "1ff64b6a",
   "metadata": {},
   "outputs": [],
   "source": [
    "array_val_dict = {}\n",
    "variable_dict = {}\n",
    "def post_upload(*args):\n",
    "    uploaded_file = LIBRA_outputs_upload_widget.value[0]\n",
    "    input_df = pd.read_csv(io.BytesIO(uploaded_file.content), index_col=0).astype(np.float32)\n",
    "    fix_col_names(input_df)\n",
    "    \n",
    "    array_val_dict.clear()\n",
    "    variable_dict.clear()\n",
    "    stella_run_names = generate_names_from_dataframe(input_df, variable_dict, array_val_dict)\n",
    "    update_multiselect(stella_runname_dropdown, stella_run_names)\n",
    "    update_dropdown(module_dropdown, list(variable_dict.keys()))"
   ]
  },
  {
   "cell_type": "code",
   "execution_count": 19,
   "id": "2f9cb86c",
   "metadata": {},
   "outputs": [],
   "source": [
    "def update_variablename_dropdown(*args) -> None:\n",
    "    variable_list = list(variable_dict[module_dropdown.value])\n",
    "    update_dropdown(variablename_dropdown, variable_list)"
   ]
  },
  {
   "cell_type": "code",
   "execution_count": 20,
   "id": "803d939e",
   "metadata": {},
   "outputs": [],
   "source": [
    "def update_arrayval_dropdowns(*args) -> None:\n",
    "    try:\n",
    "        arrayvals = array_val_dict[f\"{module_dropdown.value}.{variablename_dropdown.value}\"]\n",
    "    except KeyError as e:\n",
    "        errormessage_box.value = f\"{str(e)} is an invalid combination of a module and a variable name.\"\n",
    "        return\n",
    "    for i, arrayval in enumerate(arrayvals):\n",
    "        update_dropdown(arrayval_dropdowns[i], ArrayType.enumerate_array_type(arrayval.data_type))\n",
    "    for arrayval_dropdown in arrayval_dropdowns[len(arrayvals):]:\n",
    "        arrayval_dropdown.options = []\n",
    "        arrayval_dropdown.value = None\n",
    "        "
   ]
  },
  {
   "cell_type": "markdown",
   "id": "9e019a72",
   "metadata": {},
   "source": [
    "# UI elements"
   ]
  },
  {
   "cell_type": "code",
   "execution_count": 21,
   "id": "8ca27a2a",
   "metadata": {},
   "outputs": [],
   "source": [
    "out = widgets.interactive_output(\n",
    "    update_plot,    \n",
    "    {\n",
    "        'input_file': LIBRA_outputs_upload_widget,\n",
    "        'run_names': stella_runname_dropdown,\n",
    "        'module': module_dropdown,\n",
    "        'variable': variablename_dropdown, \n",
    "        'array_val_1': arrayval_dropdown_1,\n",
    "        'array_val_2': arrayval_dropdown_2,\n",
    "        'array_val_3': arrayval_dropdown_3,\n",
    "        'title': title_box,\n",
    "        'y_label': ylabel_box,\n",
    "        'max_yval': max_yval_select,\n",
    "        'decimal': isdecimal_checkbox,\n",
    "        'is_exogenous_input': isexogenousinput_checkbox\n",
    "    }\n",
    ")\n",
    "arrayval_dropdowns = [arrayval_dropdown_1, arrayval_dropdown_2, arrayval_dropdown_3]"
   ]
  },
  {
   "cell_type": "code",
   "execution_count": 22,
   "id": "d875fce0",
   "metadata": {},
   "outputs": [],
   "source": [
    "variable_params = widgets.HBox([stella_runname_dropdown, module_dropdown, variablename_dropdown])\n",
    "plot_element_params = widgets.HBox([title_box, ylabel_box, max_yval_select])\n",
    "array_params = widgets.HBox(arrayval_dropdowns)\n",
    "checkbox_params = widgets.HBox([isdecimal_checkbox, isexogenousinput_checkbox])"
   ]
  },
  {
   "cell_type": "markdown",
   "id": "ce952123",
   "metadata": {},
   "source": [
    "# Callbacks"
   ]
  },
  {
   "cell_type": "code",
   "execution_count": 23,
   "id": "350fd552",
   "metadata": {},
   "outputs": [],
   "source": [
    "LIBRA_outputs_upload_widget.observe(post_upload, names=\"value\")\n",
    "module_dropdown.observe(update_arrayval_dropdowns, names=\"value\")\n",
    "variablename_dropdown.observe(update_arrayval_dropdowns, names=\"value\")\n",
    "module_dropdown.observe(update_variablename_dropdown, names=\"value\")"
   ]
  },
  {
   "cell_type": "markdown",
   "id": "40072173",
   "metadata": {},
   "source": [
    "# Main dashboard"
   ]
  },
  {
   "cell_type": "code",
   "execution_count": 24,
   "id": "da219253",
   "metadata": {},
   "outputs": [
    {
     "data": {
      "application/vnd.jupyter.widget-view+json": {
       "model_id": "41fa7a86d78847fe84c050c751a698d0",
       "version_major": 2,
       "version_minor": 0
      },
      "text/plain": [
       "HTML(value='Please upload a LIBRA output csv file.', placeholder='No errors.')"
      ]
     },
     "metadata": {},
     "output_type": "display_data"
    },
    {
     "data": {
      "application/vnd.jupyter.widget-view+json": {
       "model_id": "e55f4c97a8554d189d1a7239f4e5206d",
       "version_major": 2,
       "version_minor": 0
      },
      "text/plain": [
       "FileUpload(value=(), accept='.csv', description='Upload')"
      ]
     },
     "metadata": {},
     "output_type": "display_data"
    },
    {
     "data": {
      "application/vnd.jupyter.widget-view+json": {
       "model_id": "7d9524e48a174c0aa966e767aaba2e9b",
       "version_major": 2,
       "version_minor": 0
      },
      "text/plain": [
       "HBox(children=(SelectMultiple(description='LIBRA run names:', index=(0,), options=(None,), style=DescriptionSt…"
      ]
     },
     "metadata": {},
     "output_type": "display_data"
    },
    {
     "data": {
      "application/vnd.jupyter.widget-view+json": {
       "model_id": "149c682cbdbd4894a6a76b8f32538a01",
       "version_major": 2,
       "version_minor": 0
      },
      "text/plain": [
       "HBox(children=(Dropdown(description='Array values 1:', options=(), style=DescriptionStyle(description_width='i…"
      ]
     },
     "metadata": {},
     "output_type": "display_data"
    },
    {
     "data": {
      "application/vnd.jupyter.widget-view+json": {
       "model_id": "6141327049c64dfab3cf8a831268172b",
       "version_major": 2,
       "version_minor": 0
      },
      "text/plain": [
       "HBox(children=(Text(value='Plot title', description='Lineplot title:', placeholder='Enter plot title.', style=…"
      ]
     },
     "metadata": {},
     "output_type": "display_data"
    },
    {
     "data": {
      "application/vnd.jupyter.widget-view+json": {
       "model_id": "c612b2caf2664a5183bf0e518c3f8233",
       "version_major": 2,
       "version_minor": 0
      },
      "text/plain": [
       "HBox(children=(Checkbox(value=False, description='Decimal point for y-axis values', indent=False), Checkbox(va…"
      ]
     },
     "metadata": {},
     "output_type": "display_data"
    },
    {
     "data": {
      "application/vnd.jupyter.widget-view+json": {
       "model_id": "69c8bde6ef52475e822f7e3691525a82",
       "version_major": 2,
       "version_minor": 0
      },
      "text/plain": [
       "Output()"
      ]
     },
     "metadata": {},
     "output_type": "display_data"
    }
   ],
   "source": [
    "display(errormessage_box,\n",
    "        LIBRA_outputs_upload_widget,  \n",
    "        variable_params, \n",
    "        array_params, \n",
    "        plot_element_params, \n",
    "        checkbox_params, \n",
    "        out)"
   ]
  },
  {
   "cell_type": "code",
   "execution_count": 25,
   "id": "882c5ece",
   "metadata": {},
   "outputs": [],
   "source": [
    "%load_ext watermark"
   ]
  },
  {
   "cell_type": "code",
   "execution_count": 26,
   "id": "61e25516",
   "metadata": {
    "scrolled": true
   },
   "outputs": [
    {
     "name": "stdout",
     "output_type": "stream",
     "text": [
      "Python implementation: CPython\n",
      "Python version       : 3.10.4\n",
      "IPython version      : 8.4.0\n",
      "\n",
      "ipywidgets: 8.0.1\n",
      "numpy     : 1.23.2\n",
      "pandas    : 1.4.3\n",
      "matplotlib: 3.5.3\n",
      "\n",
      "Compiler    : Clang 12.0.0 \n",
      "OS          : Darwin\n",
      "Release     : 20.6.0\n",
      "Machine     : x86_64\n",
      "Processor   : \n",
      "CPU cores   : 8\n",
      "Architecture: 64bit\n",
      "\n",
      "Last updated: Sun Aug 28 2022 08:27:57MDT\n",
      "\n"
     ]
    }
   ],
   "source": [
    "# matplotlib, ipywidgets, numpy, pandas, IPython\n",
    "%watermark -v -m -p ipywidgets,numpy,pandas,matplotlib\n",
    "\n",
    "%watermark -u -n -t -z"
   ]
  },
  {
   "cell_type": "code",
   "execution_count": null,
   "id": "b753035c",
   "metadata": {},
   "outputs": [],
   "source": []
  }
 ],
 "metadata": {
  "kernelspec": {
   "display_name": "Python 3 (ipykernel)",
   "language": "python",
   "name": "python3"
  },
  "language_info": {
   "codemirror_mode": {
    "name": "ipython",
    "version": 3
   },
   "file_extension": ".py",
   "mimetype": "text/x-python",
   "name": "python",
   "nbconvert_exporter": "python",
   "pygments_lexer": "ipython3",
   "version": "3.10.4"
  },
  "vscode": {
   "interpreter": {
    "hash": "0d4b376d5c1e8918844741f06c458cd59ab07bae13f227fd1f3b943e22de9040"
   }
  }
 },
 "nbformat": 4,
 "nbformat_minor": 5
}
